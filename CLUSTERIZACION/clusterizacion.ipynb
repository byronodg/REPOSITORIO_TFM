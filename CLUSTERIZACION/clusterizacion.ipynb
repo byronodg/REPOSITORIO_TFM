{
 "cells": [
  {
   "cell_type": "code",
   "execution_count": 1,
   "id": "8638bffd",
   "metadata": {
    "executionInfo": {
     "elapsed": 220,
     "status": "ok",
     "timestamp": 1652281432656,
     "user": {
      "displayName": "Byron Delpino",
      "userId": "17870731271085314975"
     },
     "user_tz": 300
    },
    "id": "8638bffd"
   },
   "outputs": [],
   "source": [
    "#Importación de librearias\n",
    "import pandas as pd\n",
    "import numpy as np\n",
    "#Librería para la normalización de datos \n",
    "from sklearn.preprocessing import StandardScaler\n",
    "# Librería para aplicación de Componentes Princiales\n",
    "from sklearn.decomposition import PCA\n",
    "#Liberías para gráficos\n",
    "import matplotlib.pyplot as plt\n",
    "import seaborn as sns\n",
    "# Librearías  para clusterización y métricas de evaluación\n",
    "from sklearn.cluster import KMeans,AgglomerativeClustering \n",
    "# Libería para el gráfico clústeres aglomerativos\n",
    "import scipy.cluster.hierarchy as sch\n",
    "from sklearn.metrics import silhouette_samples, silhouette_score\n",
    "#Librería para el manejo de mapas \n",
    "import geopandas as gpd\n",
    "\n",
    "\n",
    "import warnings\n",
    "warnings.filterwarnings('ignore')\n",
    "# Opción para despliegue de datos en formato numérico \n",
    "pd.options.display.float_format = '{:.0f}'.format"
   ]
  },
  {
   "cell_type": "code",
   "execution_count": 2,
   "id": "f0b20e29",
   "metadata": {
    "executionInfo": {
     "elapsed": 2135,
     "status": "ok",
     "timestamp": 1652280384150,
     "user": {
      "displayName": "Byron Delpino",
      "userId": "17870731271085314975"
     },
     "user_tz": 300
    },
    "id": "f0b20e29"
   },
   "outputs": [],
   "source": [
    "#Subida de archivos \n",
    "\n",
    "#Importación de datos agreagados de declaraciones de los años 2020 y 2021\n",
    "url_datos_2020= 'https://raw.githubusercontent.com/byronodg/REPOSITORIO_TFM/main/CLUSTERIZACION/sri_ventas_2020L.csv'\n",
    "data_2020=pd.read_csv(url_datos_2020, encoding = \"ISO-8859-1\", sep=\";\")\n",
    "url_datos_2021=  \"https://raw.githubusercontent.com/byronodg/REPOSITORIO_TFM/main/CLUSTERIZACION/sri_ventas_2021L.csv\"\n",
    "data_2021=pd.read_csv(url_datos_2021, encoding = \"ISO-8859-1\", sep=\";\")\n",
    "\n",
    "#Consolidación de datos\n",
    "data_total=pd.concat([data_2020,data_2021])\n",
    "\n",
    "# Importación de datos relacionados al número de habitantes por provincia y cantón\n",
    "url_poblacion_ecuador='https://raw.githubusercontent.com/byronodg/TFM/main/poblacion_ecu_2020.csv'\n",
    "\n",
    "data_poblacion_canton=pd.read_csv(url_poblacion_ecuador, encoding = \"ISO-8859-1\", sep=\";\")\n",
    "\n",
    "#Generación de datos agregados de población por provincia\n",
    "data_poblacion_provincia=data_poblacion_canton.groupby([\"PROVINCIA\"]).sum().reset_index()\n"
   ]
  },
  {
   "cell_type": "code",
   "execution_count": 3,
   "id": "07e26030",
   "metadata": {},
   "outputs": [
    {
     "name": "stdout",
     "output_type": "stream",
     "text": [
      "<class 'pandas.core.frame.DataFrame'>\n",
      "Int64Index: 99747 entries, 0 to 49768\n",
      "Data columns (total 15 columns):\n",
      " #   Column                    Non-Null Count  Dtype  \n",
      "---  ------                    --------------  -----  \n",
      " 0   AÑO                       49978 non-null  float64\n",
      " 1   MES                       99737 non-null  float64\n",
      " 2   CODIGO_SECTOR_N1          99737 non-null  object \n",
      " 3   PROVINCIA                 99737 non-null  object \n",
      " 4   CANTON                    99737 non-null  object \n",
      " 5   Ventas netas tarifa 12%   99737 non-null  object \n",
      " 6   Ventas netas tarifa 0%    99737 non-null  object \n",
      " 7   EXPORTACIONES             99737 non-null  object \n",
      " 8   Compras netas tarifa 12%  99737 non-null  object \n",
      " 9   Compras netas tarifa 0%   99737 non-null  object \n",
      " 10  IMPORTACIONES             99737 non-null  object \n",
      " 11  COMPRAS_RISE              99737 non-null  object \n",
      " 12  TOTAL_COMPRAS             99737 non-null  object \n",
      " 13  TOTAL_VENTAS              99737 non-null  object \n",
      " 14  LA CONCORDIA              49759 non-null  float64\n",
      "dtypes: float64(3), object(12)\n",
      "memory usage: 12.2+ MB\n",
      "<class 'pandas.core.frame.DataFrame'>\n",
      "RangeIndex: 221 entries, 0 to 220\n",
      "Data columns (total 3 columns):\n",
      " #   Column     Non-Null Count  Dtype \n",
      "---  ------     --------------  ----- \n",
      " 0   PROVINCIA  221 non-null    object\n",
      " 1   CANTON     221 non-null    object\n",
      " 2   POBLACION  221 non-null    int64 \n",
      "dtypes: int64(1), object(2)\n",
      "memory usage: 5.3+ KB\n"
     ]
    }
   ],
   "source": [
    "data_total.info()\n",
    "data_poblacion_canton.info()"
   ]
  },
  {
   "cell_type": "code",
   "execution_count": 4,
   "id": "efaa62c8",
   "metadata": {},
   "outputs": [],
   "source": [
    "#Transformación de campos numéricos : Es una transformaciòn previa debido a problemas por el uso de comas y puntos para formtos numéricos\n",
    "\n",
    "campos_numericos=['Ventas netas tarifa 12%','Ventas netas tarifa 0%','EXPORTACIONES',\n",
    "                 'Compras netas tarifa 12%','Compras netas tarifa 0%','IMPORTACIONES'\n",
    "                ,'COMPRAS_RISE' ,'TOTAL_COMPRAS','TOTAL_VENTAS']\n",
    "\n",
    "for campo in campos_numericos:\n",
    "  data_total[campo]=data_total[campo].str.replace(',','.')  \n",
    "  data_total[campo]= data_total[campo].astype('float64')\n",
    "\n",
    "data_total['AÑO']= data_total['AÑO'].astype('str')\n",
    "data_total['MES']= data_total['MES'].astype('str')"
   ]
  },
  {
   "cell_type": "code",
   "execution_count": 5,
   "id": "0975fc93",
   "metadata": {},
   "outputs": [
    {
     "data": {
      "text/plain": [
       "AÑO                         0\n",
       "MES                         0\n",
       "CODIGO_SECTOR_N1            0\n",
       "PROVINCIA                   0\n",
       "CANTON                      0\n",
       "Ventas netas tarifa 12%     0\n",
       "Ventas netas tarifa 0%      0\n",
       "EXPORTACIONES               0\n",
       "Compras netas tarifa 12%    0\n",
       "Compras netas tarifa 0%     0\n",
       "IMPORTACIONES               0\n",
       "COMPRAS_RISE                0\n",
       "TOTAL_COMPRAS               0\n",
       "TOTAL_VENTAS                0\n",
       "LA CONCORDIA                0\n",
       "dtype: int64"
      ]
     },
     "execution_count": 5,
     "metadata": {},
     "output_type": "execute_result"
    }
   ],
   "source": [
    "#Verificaciìn de existencia de nulos\n",
    "data_poblacion_canton.isna().sum()\n",
    "data_total.isna().sum()\n",
    "data_total.dropna(inplace=True)\n",
    "data_total.isna().sum()"
   ]
  },
  {
   "cell_type": "code",
   "execution_count": 6,
   "id": "c37f0205",
   "metadata": {},
   "outputs": [
    {
     "data": {
      "text/plain": [
       "AÑO                         0\n",
       "MES                         0\n",
       "CODIGO_SECTOR_N1            0\n",
       "PROVINCIA                   0\n",
       "CANTON                      0\n",
       "Ventas netas tarifa 12%     0\n",
       "Ventas netas tarifa 0%      0\n",
       "EXPORTACIONES               0\n",
       "Compras netas tarifa 12%    0\n",
       "Compras netas tarifa 0%     0\n",
       "IMPORTACIONES               0\n",
       "COMPRAS_RISE                0\n",
       "TOTAL_COMPRAS               0\n",
       "TOTAL_VENTAS                0\n",
       "LA CONCORDIA                0\n",
       "dtype: int64"
      ]
     },
     "execution_count": 6,
     "metadata": {},
     "output_type": "execute_result"
    }
   ],
   "source": [
    "df1 = data_total[data_total.duplicated(keep=False)]\n",
    "df1.count()"
   ]
  },
  {
   "cell_type": "code",
   "execution_count": 7,
   "id": "a2ddbb4d",
   "metadata": {},
   "outputs": [
    {
     "name": "stdout",
     "output_type": "stream",
     "text": [
      "<class 'pandas.core.frame.DataFrame'>\n",
      "Int64Index: 49759 entries, 0 to 49768\n",
      "Data columns (total 15 columns):\n",
      " #   Column                    Non-Null Count  Dtype  \n",
      "---  ------                    --------------  -----  \n",
      " 0   AÑO                       49759 non-null  object \n",
      " 1   MES                       49759 non-null  object \n",
      " 2   CODIGO_SECTOR_N1          49759 non-null  object \n",
      " 3   PROVINCIA                 49759 non-null  object \n",
      " 4   CANTON                    49759 non-null  object \n",
      " 5   Ventas netas tarifa 12%   49759 non-null  float64\n",
      " 6   Ventas netas tarifa 0%    49759 non-null  float64\n",
      " 7   EXPORTACIONES             49759 non-null  float64\n",
      " 8   Compras netas tarifa 12%  49759 non-null  float64\n",
      " 9   Compras netas tarifa 0%   49759 non-null  float64\n",
      " 10  IMPORTACIONES             49759 non-null  float64\n",
      " 11  COMPRAS_RISE              49759 non-null  float64\n",
      " 12  TOTAL_COMPRAS             49759 non-null  float64\n",
      " 13  TOTAL_VENTAS              49759 non-null  float64\n",
      " 14  LA CONCORDIA              49759 non-null  float64\n",
      "dtypes: float64(10), object(5)\n",
      "memory usage: 6.1+ MB\n"
     ]
    }
   ],
   "source": [
    "data_total.info()"
   ]
  },
  {
   "cell_type": "code",
   "execution_count": null,
   "id": "18ae5dca",
   "metadata": {
    "executionInfo": {
     "elapsed": 593,
     "status": "ok",
     "timestamp": 1652280387531,
     "user": {
      "displayName": "Byron Delpino",
      "userId": "17870731271085314975"
     },
     "user_tz": 300
    },
    "id": "18ae5dca"
   },
   "outputs": [],
   "source": [
    "\n"
   ]
  },
  {
   "cell_type": "code",
   "execution_count": 8,
   "id": "95214a60",
   "metadata": {},
   "outputs": [
    {
     "data": {
      "text/html": [
       "<div>\n",
       "<style scoped>\n",
       "    .dataframe tbody tr th:only-of-type {\n",
       "        vertical-align: middle;\n",
       "    }\n",
       "\n",
       "    .dataframe tbody tr th {\n",
       "        vertical-align: top;\n",
       "    }\n",
       "\n",
       "    .dataframe thead th {\n",
       "        text-align: right;\n",
       "    }\n",
       "</style>\n",
       "<table border=\"1\" class=\"dataframe\">\n",
       "  <thead>\n",
       "    <tr style=\"text-align: right;\">\n",
       "      <th></th>\n",
       "      <th>Ventas netas tarifa 12%</th>\n",
       "      <th>Ventas netas tarifa 0%</th>\n",
       "      <th>EXPORTACIONES</th>\n",
       "      <th>Compras netas tarifa 12%</th>\n",
       "      <th>Compras netas tarifa 0%</th>\n",
       "      <th>IMPORTACIONES</th>\n",
       "      <th>COMPRAS_RISE</th>\n",
       "      <th>TOTAL_COMPRAS</th>\n",
       "      <th>TOTAL_VENTAS</th>\n",
       "      <th>LA CONCORDIA</th>\n",
       "    </tr>\n",
       "  </thead>\n",
       "  <tbody>\n",
       "    <tr>\n",
       "      <th>count</th>\n",
       "      <td>49759</td>\n",
       "      <td>49759</td>\n",
       "      <td>49759</td>\n",
       "      <td>49759</td>\n",
       "      <td>49759</td>\n",
       "      <td>49759</td>\n",
       "      <td>49759</td>\n",
       "      <td>49759</td>\n",
       "      <td>49759</td>\n",
       "      <td>49759</td>\n",
       "    </tr>\n",
       "    <tr>\n",
       "      <th>mean</th>\n",
       "      <td>2096329</td>\n",
       "      <td>1322622</td>\n",
       "      <td>536059</td>\n",
       "      <td>1655218</td>\n",
       "      <td>1002395</td>\n",
       "      <td>454827</td>\n",
       "      <td>20478</td>\n",
       "      <td>3161507</td>\n",
       "      <td>3954991</td>\n",
       "      <td>2021</td>\n",
       "    </tr>\n",
       "    <tr>\n",
       "      <th>std</th>\n",
       "      <td>36024783</td>\n",
       "      <td>13130696</td>\n",
       "      <td>11515447</td>\n",
       "      <td>23489867</td>\n",
       "      <td>11363773</td>\n",
       "      <td>10837965</td>\n",
       "      <td>154108</td>\n",
       "      <td>43540860</td>\n",
       "      <td>53862635</td>\n",
       "      <td>0</td>\n",
       "    </tr>\n",
       "    <tr>\n",
       "      <th>min</th>\n",
       "      <td>0</td>\n",
       "      <td>0</td>\n",
       "      <td>0</td>\n",
       "      <td>0</td>\n",
       "      <td>0</td>\n",
       "      <td>0</td>\n",
       "      <td>0</td>\n",
       "      <td>0</td>\n",
       "      <td>0</td>\n",
       "      <td>2021</td>\n",
       "    </tr>\n",
       "    <tr>\n",
       "      <th>25%</th>\n",
       "      <td>495</td>\n",
       "      <td>20</td>\n",
       "      <td>0</td>\n",
       "      <td>1582</td>\n",
       "      <td>107</td>\n",
       "      <td>0</td>\n",
       "      <td>0</td>\n",
       "      <td>2418</td>\n",
       "      <td>2332</td>\n",
       "      <td>2021</td>\n",
       "    </tr>\n",
       "    <tr>\n",
       "      <th>50%</th>\n",
       "      <td>8745</td>\n",
       "      <td>6294</td>\n",
       "      <td>0</td>\n",
       "      <td>19000</td>\n",
       "      <td>4453</td>\n",
       "      <td>0</td>\n",
       "      <td>0</td>\n",
       "      <td>30819</td>\n",
       "      <td>29363</td>\n",
       "      <td>2021</td>\n",
       "    </tr>\n",
       "    <tr>\n",
       "      <th>75%</th>\n",
       "      <td>88499</td>\n",
       "      <td>89634</td>\n",
       "      <td>0</td>\n",
       "      <td>155029</td>\n",
       "      <td>55197</td>\n",
       "      <td>0</td>\n",
       "      <td>1252</td>\n",
       "      <td>252821</td>\n",
       "      <td>250766</td>\n",
       "      <td>2021</td>\n",
       "    </tr>\n",
       "    <tr>\n",
       "      <th>max</th>\n",
       "      <td>2022914329</td>\n",
       "      <td>690120674</td>\n",
       "      <td>779331493</td>\n",
       "      <td>1726233015</td>\n",
       "      <td>683862940</td>\n",
       "      <td>545441167</td>\n",
       "      <td>8861107</td>\n",
       "      <td>2264439566</td>\n",
       "      <td>2708993523</td>\n",
       "      <td>2021</td>\n",
       "    </tr>\n",
       "  </tbody>\n",
       "</table>\n",
       "</div>"
      ],
      "text/plain": [
       "       Ventas netas tarifa 12%  Ventas netas tarifa 0%  EXPORTACIONES  \\\n",
       "count                    49759                   49759          49759   \n",
       "mean                   2096329                 1322622         536059   \n",
       "std                   36024783                13130696       11515447   \n",
       "min                          0                       0              0   \n",
       "25%                        495                      20              0   \n",
       "50%                       8745                    6294              0   \n",
       "75%                      88499                   89634              0   \n",
       "max                 2022914329               690120674      779331493   \n",
       "\n",
       "       Compras netas tarifa 12%  Compras netas tarifa 0%  IMPORTACIONES  \\\n",
       "count                     49759                    49759          49759   \n",
       "mean                    1655218                  1002395         454827   \n",
       "std                    23489867                 11363773       10837965   \n",
       "min                           0                        0              0   \n",
       "25%                        1582                      107              0   \n",
       "50%                       19000                     4453              0   \n",
       "75%                      155029                    55197              0   \n",
       "max                  1726233015                683862940      545441167   \n",
       "\n",
       "       COMPRAS_RISE  TOTAL_COMPRAS  TOTAL_VENTAS  LA CONCORDIA  \n",
       "count         49759          49759         49759         49759  \n",
       "mean          20478        3161507       3954991          2021  \n",
       "std          154108       43540860      53862635             0  \n",
       "min               0              0             0          2021  \n",
       "25%               0           2418          2332          2021  \n",
       "50%               0          30819         29363          2021  \n",
       "75%            1252         252821        250766          2021  \n",
       "max         8861107     2264439566    2708993523          2021  "
      ]
     },
     "execution_count": 8,
     "metadata": {},
     "output_type": "execute_result"
    }
   ],
   "source": [
    "data_total.describe()"
   ]
  },
  {
   "cell_type": "code",
   "execution_count": 9,
   "id": "9c276a57",
   "metadata": {
    "executionInfo": {
     "elapsed": 492,
     "status": "ok",
     "timestamp": 1652280391520,
     "user": {
      "displayName": "Byron Delpino",
      "userId": "17870731271085314975"
     },
     "user_tz": 300
    },
    "id": "9c276a57"
   },
   "outputs": [],
   "source": [
    "##Agregación de los datos de declaraciones provincia y provincia-cantón\n",
    "\n",
    "data_agregada_provincia=data_total.groupby([\"PROVINCIA\"])[campos_numericos].sum().reset_index()\n",
    "data_agregada_canton=data_total.groupby([\"PROVINCIA\",'CANTON'])[campos_numericos].sum().reset_index()\n",
    "data_agregada_provincia=data_agregada_canton\n",
    "\n",
    "data_agregada_provincia2=data_total.groupby([\"PROVINCIA\"])[campos_numericos].sum().reset_index()\n",
    "data_agregada_anio=data_total.groupby([\"AÑO\"])[campos_numericos].sum().reset_index()\n"
   ]
  },
  {
   "cell_type": "code",
   "execution_count": 10,
   "id": "14f98f8f",
   "metadata": {
    "scrolled": true
   },
   "outputs": [
    {
     "data": {
      "image/png": "[encoded data removed]",
      "text/plain": [
       "<Figure size 576x504 with 4 Axes>"
      ]
     },
     "metadata": {
      "needs_background": "light"
     },
     "output_type": "display_data"
    }
   ],
   "source": [
    "#Grafica de los clústeres\n",
    "fig, axs = plt.subplots(2, 2, figsize=(8,7))\n",
    "fig.tight_layout()\n",
    "plt.tight_layout()\n",
    "axs[0][0].boxplot(data_agregada_provincia2['TOTAL_COMPRAS'])\n",
    "axs[0][0].set_title('TOTAL COMPRAS x PROVINCIA')\n",
    "axs[0][0].set_ylabel('TOTAL COMPRAS')\n",
    "\n",
    "axs[0][1].boxplot(data_agregada_provincia2['TOTAL_VENTAS'])\n",
    "axs[0][1].set_title('TOTAL VENTAS x PROVINCIA')\n",
    "axs[0][1].set_ylabel('TOTAL VENTAS')\n",
    "\n",
    "axs[1][0].bar(data_agregada_anio['AÑO'],data_agregada_anio['TOTAL_COMPRAS'])\n",
    "axs[1][0].set_title('Total de Compras por Año')\n",
    "axs[1][0].set_ylabel('Total')\n",
    "\n",
    "\n",
    "axs[1][1].bar(data_agregada_anio['AÑO'],data_agregada_anio['TOTAL_VENTAS'])\n",
    "axs[1][1].set_title('Total de Ventas por Año')\n",
    "\n",
    "\n",
    "plt.show()"
   ]
  },
  {
   "cell_type": "code",
   "execution_count": 11,
   "id": "9fb32fb6",
   "metadata": {
    "executionInfo": {
     "elapsed": 230,
     "status": "ok",
     "timestamp": 1652280394169,
     "user": {
      "displayName": "Byron Delpino",
      "userId": "17870731271085314975"
     },
     "user_tz": 300
    },
    "id": "9fb32fb6"
   },
   "outputs": [],
   "source": [
    "#ESTE ES POR PROVINCIA NO PARA SWITCHEAR\n",
    "#dataset_consolidado_provincia=pd.merge(data_agregada_provincia, data_poblacion_provincia, on=['PROVINCIA'], how='inner')\n",
    "dataset_consolidado_provincia=pd.merge(data_agregada_provincia, data_poblacion_canton, on=['PROVINCIA','CANTON'], how='inner')\n",
    "\n",
    "#Estandarización por cada 100000 habitantes para cada provincia\n",
    "campos_numericos_100K=['Ventas netas tarifa 12_CM%','Ventas netas tarifa 0%_CM','EXPORTACIONES_CM',\n",
    "                 'Compras netas tarifa 12%_CM','Compras netas tarifa 0%_CM','IMPORTACIONES_CM'\n",
    "                ,'COMPRAS_RISE_CM' ,'TOTAL_COMPRAS_CM','TOTAL_VENTAS_CM']\n",
    "\n",
    "\n",
    "# Estandarización de datos numéricos de acuerdo al número de habitantes (x cada 10000 habitantes )\n",
    "contador_campos_numericos=0\n",
    "for campo in campos_numericos_100K:    \n",
    "  dataset_consolidado_provincia[campo]=dataset_consolidado_provincia[campos_numericos[contador_campos_numericos]]*10000/dataset_consolidado_provincia['POBLACION']\n",
    "  contador_campos_numericos=contador_campos_numericos+1\n"
   ]
  },
  {
   "cell_type": "code",
   "execution_count": 12,
   "id": "c3132fd4",
   "metadata": {},
   "outputs": [
    {
     "data": {
      "text/html": [
       "<div>\n",
       "<style scoped>\n",
       "    .dataframe tbody tr th:only-of-type {\n",
       "        vertical-align: middle;\n",
       "    }\n",
       "\n",
       "    .dataframe tbody tr th {\n",
       "        vertical-align: top;\n",
       "    }\n",
       "\n",
       "    .dataframe thead th {\n",
       "        text-align: right;\n",
       "    }\n",
       "</style>\n",
       "<table border=\"1\" class=\"dataframe\">\n",
       "  <thead>\n",
       "    <tr style=\"text-align: right;\">\n",
       "      <th></th>\n",
       "      <th>PROVINCIA</th>\n",
       "      <th>CANTON</th>\n",
       "      <th>Ventas netas tarifa 12%</th>\n",
       "      <th>Ventas netas tarifa 0%</th>\n",
       "      <th>EXPORTACIONES</th>\n",
       "      <th>Compras netas tarifa 12%</th>\n",
       "      <th>Compras netas tarifa 0%</th>\n",
       "      <th>IMPORTACIONES</th>\n",
       "      <th>COMPRAS_RISE</th>\n",
       "      <th>TOTAL_COMPRAS</th>\n",
       "      <th>...</th>\n",
       "      <th>POBLACION</th>\n",
       "      <th>Ventas netas tarifa 12_CM%</th>\n",
       "      <th>Ventas netas tarifa 0%_CM</th>\n",
       "      <th>EXPORTACIONES_CM</th>\n",
       "      <th>Compras netas tarifa 12%_CM</th>\n",
       "      <th>Compras netas tarifa 0%_CM</th>\n",
       "      <th>IMPORTACIONES_CM</th>\n",
       "      <th>COMPRAS_RISE_CM</th>\n",
       "      <th>TOTAL_COMPRAS_CM</th>\n",
       "      <th>TOTAL_VENTAS_CM</th>\n",
       "    </tr>\n",
       "  </thead>\n",
       "  <tbody>\n",
       "    <tr>\n",
       "      <th>0</th>\n",
       "      <td>AZUAY</td>\n",
       "      <td>CAMILO PONCE ENRIQUEZ</td>\n",
       "      <td>42370549</td>\n",
       "      <td>64797156</td>\n",
       "      <td>36973525</td>\n",
       "      <td>71274569</td>\n",
       "      <td>47641063</td>\n",
       "      <td>532826</td>\n",
       "      <td>1951388</td>\n",
       "      <td>121399847</td>\n",
       "      <td>...</td>\n",
       "      <td>36423</td>\n",
       "      <td>11632910</td>\n",
       "      <td>17790176</td>\n",
       "      <td>10151147</td>\n",
       "      <td>19568561</td>\n",
       "      <td>13079939</td>\n",
       "      <td>146288</td>\n",
       "      <td>535757</td>\n",
       "      <td>33330546</td>\n",
       "      <td>39574233</td>\n",
       "    </tr>\n",
       "    <tr>\n",
       "      <th>1</th>\n",
       "      <td>AZUAY</td>\n",
       "      <td>CHORDELEG</td>\n",
       "      <td>9671623</td>\n",
       "      <td>5348753</td>\n",
       "      <td>0</td>\n",
       "      <td>12483424</td>\n",
       "      <td>3020666</td>\n",
       "      <td>140479</td>\n",
       "      <td>83070</td>\n",
       "      <td>15727639</td>\n",
       "      <td>...</td>\n",
       "      <td>15176</td>\n",
       "      <td>6372972</td>\n",
       "      <td>3524481</td>\n",
       "      <td>0</td>\n",
       "      <td>8225767</td>\n",
       "      <td>1990423</td>\n",
       "      <td>92567</td>\n",
       "      <td>54738</td>\n",
       "      <td>10363495</td>\n",
       "      <td>9897453</td>\n",
       "    </tr>\n",
       "    <tr>\n",
       "      <th>2</th>\n",
       "      <td>AZUAY</td>\n",
       "      <td>CUENCA</td>\n",
       "      <td>5688290206</td>\n",
       "      <td>3278778268</td>\n",
       "      <td>164170817</td>\n",
       "      <td>4133116585</td>\n",
       "      <td>1297845785</td>\n",
       "      <td>1501756677</td>\n",
       "      <td>49985918</td>\n",
       "      <td>6988825098</td>\n",
       "      <td>...</td>\n",
       "      <td>636996</td>\n",
       "      <td>89298680</td>\n",
       "      <td>51472510</td>\n",
       "      <td>2577266</td>\n",
       "      <td>64884498</td>\n",
       "      <td>20374473</td>\n",
       "      <td>23575606</td>\n",
       "      <td>784713</td>\n",
       "      <td>109715369</td>\n",
       "      <td>143348487</td>\n",
       "    </tr>\n",
       "    <tr>\n",
       "      <th>3</th>\n",
       "      <td>AZUAY</td>\n",
       "      <td>EL PAN</td>\n",
       "      <td>817762</td>\n",
       "      <td>388796</td>\n",
       "      <td>0</td>\n",
       "      <td>1514970</td>\n",
       "      <td>253129</td>\n",
       "      <td>276</td>\n",
       "      <td>5173</td>\n",
       "      <td>1773548</td>\n",
       "      <td>...</td>\n",
       "      <td>3091</td>\n",
       "      <td>2645622</td>\n",
       "      <td>1257833</td>\n",
       "      <td>0</td>\n",
       "      <td>4901229</td>\n",
       "      <td>818922</td>\n",
       "      <td>892</td>\n",
       "      <td>16737</td>\n",
       "      <td>5737780</td>\n",
       "      <td>3903455</td>\n",
       "    </tr>\n",
       "    <tr>\n",
       "      <th>4</th>\n",
       "      <td>AZUAY</td>\n",
       "      <td>GIRON</td>\n",
       "      <td>6114530</td>\n",
       "      <td>8696460</td>\n",
       "      <td>0</td>\n",
       "      <td>8869750</td>\n",
       "      <td>3170480</td>\n",
       "      <td>180373</td>\n",
       "      <td>62519</td>\n",
       "      <td>12283123</td>\n",
       "      <td>...</td>\n",
       "      <td>13037</td>\n",
       "      <td>4690136</td>\n",
       "      <td>6670599</td>\n",
       "      <td>0</td>\n",
       "      <td>6803521</td>\n",
       "      <td>2431909</td>\n",
       "      <td>138355</td>\n",
       "      <td>47955</td>\n",
       "      <td>9421740</td>\n",
       "      <td>11360735</td>\n",
       "    </tr>\n",
       "    <tr>\n",
       "      <th>...</th>\n",
       "      <td>...</td>\n",
       "      <td>...</td>\n",
       "      <td>...</td>\n",
       "      <td>...</td>\n",
       "      <td>...</td>\n",
       "      <td>...</td>\n",
       "      <td>...</td>\n",
       "      <td>...</td>\n",
       "      <td>...</td>\n",
       "      <td>...</td>\n",
       "      <td>...</td>\n",
       "      <td>...</td>\n",
       "      <td>...</td>\n",
       "      <td>...</td>\n",
       "      <td>...</td>\n",
       "      <td>...</td>\n",
       "      <td>...</td>\n",
       "      <td>...</td>\n",
       "      <td>...</td>\n",
       "      <td>...</td>\n",
       "      <td>...</td>\n",
       "    </tr>\n",
       "    <tr>\n",
       "      <th>216</th>\n",
       "      <td>ZAMORA CHINCHIPE</td>\n",
       "      <td>PALANDA</td>\n",
       "      <td>3634169</td>\n",
       "      <td>4700501</td>\n",
       "      <td>0</td>\n",
       "      <td>7998646</td>\n",
       "      <td>3042351</td>\n",
       "      <td>1061</td>\n",
       "      <td>324751</td>\n",
       "      <td>11366809</td>\n",
       "      <td>...</td>\n",
       "      <td>10144</td>\n",
       "      <td>3582580</td>\n",
       "      <td>4633774</td>\n",
       "      <td>0</td>\n",
       "      <td>7885101</td>\n",
       "      <td>2999163</td>\n",
       "      <td>1046</td>\n",
       "      <td>320141</td>\n",
       "      <td>11205451</td>\n",
       "      <td>8216355</td>\n",
       "    </tr>\n",
       "    <tr>\n",
       "      <th>217</th>\n",
       "      <td>ZAMORA CHINCHIPE</td>\n",
       "      <td>PAQUISHA</td>\n",
       "      <td>3856846</td>\n",
       "      <td>6899866</td>\n",
       "      <td>626</td>\n",
       "      <td>12989151</td>\n",
       "      <td>1610278</td>\n",
       "      <td>27940</td>\n",
       "      <td>25899</td>\n",
       "      <td>14653268</td>\n",
       "      <td>...</td>\n",
       "      <td>5992</td>\n",
       "      <td>6436658</td>\n",
       "      <td>11515130</td>\n",
       "      <td>1044</td>\n",
       "      <td>21677488</td>\n",
       "      <td>2687381</td>\n",
       "      <td>46629</td>\n",
       "      <td>43222</td>\n",
       "      <td>24454720</td>\n",
       "      <td>17952832</td>\n",
       "    </tr>\n",
       "    <tr>\n",
       "      <th>218</th>\n",
       "      <td>ZAMORA CHINCHIPE</td>\n",
       "      <td>YACUAMBI</td>\n",
       "      <td>1711494</td>\n",
       "      <td>691490</td>\n",
       "      <td>0</td>\n",
       "      <td>3273342</td>\n",
       "      <td>794412</td>\n",
       "      <td>9382</td>\n",
       "      <td>17885</td>\n",
       "      <td>4095020</td>\n",
       "      <td>...</td>\n",
       "      <td>7121</td>\n",
       "      <td>2403447</td>\n",
       "      <td>971058</td>\n",
       "      <td>0</td>\n",
       "      <td>4596744</td>\n",
       "      <td>1115590</td>\n",
       "      <td>13175</td>\n",
       "      <td>25116</td>\n",
       "      <td>5750625</td>\n",
       "      <td>3374505</td>\n",
       "    </tr>\n",
       "    <tr>\n",
       "      <th>219</th>\n",
       "      <td>ZAMORA CHINCHIPE</td>\n",
       "      <td>YANTZAZA</td>\n",
       "      <td>94771682</td>\n",
       "      <td>61867876</td>\n",
       "      <td>736058468</td>\n",
       "      <td>273764845</td>\n",
       "      <td>82082170</td>\n",
       "      <td>40155908</td>\n",
       "      <td>514043</td>\n",
       "      <td>410749957</td>\n",
       "      <td>...</td>\n",
       "      <td>26447</td>\n",
       "      <td>35834568</td>\n",
       "      <td>23393155</td>\n",
       "      <td>278314541</td>\n",
       "      <td>103514518</td>\n",
       "      <td>31036477</td>\n",
       "      <td>15183540</td>\n",
       "      <td>194367</td>\n",
       "      <td>155310605</td>\n",
       "      <td>337542264</td>\n",
       "    </tr>\n",
       "    <tr>\n",
       "      <th>220</th>\n",
       "      <td>ZAMORA CHINCHIPE</td>\n",
       "      <td>ZAMORA</td>\n",
       "      <td>65172635</td>\n",
       "      <td>34108715</td>\n",
       "      <td>6119051</td>\n",
       "      <td>112400459</td>\n",
       "      <td>22135159</td>\n",
       "      <td>3670408</td>\n",
       "      <td>430016</td>\n",
       "      <td>138639253</td>\n",
       "      <td>...</td>\n",
       "      <td>32761</td>\n",
       "      <td>19893360</td>\n",
       "      <td>10411378</td>\n",
       "      <td>1867785</td>\n",
       "      <td>34309227</td>\n",
       "      <td>6756558</td>\n",
       "      <td>1120359</td>\n",
       "      <td>131259</td>\n",
       "      <td>42318383</td>\n",
       "      <td>32172523</td>\n",
       "    </tr>\n",
       "  </tbody>\n",
       "</table>\n",
       "<p>221 rows × 21 columns</p>\n",
       "</div>"
      ],
      "text/plain": [
       "            PROVINCIA                 CANTON  Ventas netas tarifa 12%  \\\n",
       "0               AZUAY  CAMILO PONCE ENRIQUEZ                 42370549   \n",
       "1               AZUAY              CHORDELEG                  9671623   \n",
       "2               AZUAY                 CUENCA               5688290206   \n",
       "3               AZUAY                 EL PAN                   817762   \n",
       "4               AZUAY                  GIRON                  6114530   \n",
       "..                ...                    ...                      ...   \n",
       "216  ZAMORA CHINCHIPE                PALANDA                  3634169   \n",
       "217  ZAMORA CHINCHIPE               PAQUISHA                  3856846   \n",
       "218  ZAMORA CHINCHIPE               YACUAMBI                  1711494   \n",
       "219  ZAMORA CHINCHIPE               YANTZAZA                 94771682   \n",
       "220  ZAMORA CHINCHIPE                 ZAMORA                 65172635   \n",
       "\n",
       "     Ventas netas tarifa 0%  EXPORTACIONES  Compras netas tarifa 12%  \\\n",
       "0                  64797156       36973525                  71274569   \n",
       "1                   5348753              0                  12483424   \n",
       "2                3278778268      164170817                4133116585   \n",
       "3                    388796              0                   1514970   \n",
       "4                   8696460              0                   8869750   \n",
       "..                      ...            ...                       ...   \n",
       "216                 4700501              0                   7998646   \n",
       "217                 6899866            626                  12989151   \n",
       "218                  691490              0                   3273342   \n",
       "219                61867876      736058468                 273764845   \n",
       "220                34108715        6119051                 112400459   \n",
       "\n",
       "     Compras netas tarifa 0%  IMPORTACIONES  COMPRAS_RISE  TOTAL_COMPRAS  ...  \\\n",
       "0                   47641063         532826       1951388      121399847  ...   \n",
       "1                    3020666         140479         83070       15727639  ...   \n",
       "2                 1297845785     1501756677      49985918     6988825098  ...   \n",
       "3                     253129            276          5173        1773548  ...   \n",
       "4                    3170480         180373         62519       12283123  ...   \n",
       "..                       ...            ...           ...            ...  ...   \n",
       "216                  3042351           1061        324751       11366809  ...   \n",
       "217                  1610278          27940         25899       14653268  ...   \n",
       "218                   794412           9382         17885        4095020  ...   \n",
       "219                 82082170       40155908        514043      410749957  ...   \n",
       "220                 22135159        3670408        430016      138639253  ...   \n",
       "\n",
       "     POBLACION  Ventas netas tarifa 12_CM%  Ventas netas tarifa 0%_CM  \\\n",
       "0        36423                    11632910                   17790176   \n",
       "1        15176                     6372972                    3524481   \n",
       "2       636996                    89298680                   51472510   \n",
       "3         3091                     2645622                    1257833   \n",
       "4        13037                     4690136                    6670599   \n",
       "..         ...                         ...                        ...   \n",
       "216      10144                     3582580                    4633774   \n",
       "217       5992                     6436658                   11515130   \n",
       "218       7121                     2403447                     971058   \n",
       "219      26447                    35834568                   23393155   \n",
       "220      32761                    19893360                   10411378   \n",
       "\n",
       "     EXPORTACIONES_CM  Compras netas tarifa 12%_CM  \\\n",
       "0            10151147                     19568561   \n",
       "1                   0                      8225767   \n",
       "2             2577266                     64884498   \n",
       "3                   0                      4901229   \n",
       "4                   0                      6803521   \n",
       "..                ...                          ...   \n",
       "216                 0                      7885101   \n",
       "217              1044                     21677488   \n",
       "218                 0                      4596744   \n",
       "219         278314541                    103514518   \n",
       "220           1867785                     34309227   \n",
       "\n",
       "     Compras netas tarifa 0%_CM  IMPORTACIONES_CM  COMPRAS_RISE_CM  \\\n",
       "0                      13079939            146288           535757   \n",
       "1                       1990423             92567            54738   \n",
       "2                      20374473          23575606           784713   \n",
       "3                        818922               892            16737   \n",
       "4                       2431909            138355            47955   \n",
       "..                          ...               ...              ...   \n",
       "216                     2999163              1046           320141   \n",
       "217                     2687381             46629            43222   \n",
       "218                     1115590             13175            25116   \n",
       "219                    31036477          15183540           194367   \n",
       "220                     6756558           1120359           131259   \n",
       "\n",
       "     TOTAL_COMPRAS_CM  TOTAL_VENTAS_CM  \n",
       "0            33330546         39574233  \n",
       "1            10363495          9897453  \n",
       "2           109715369        143348487  \n",
       "3             5737780          3903455  \n",
       "4             9421740         11360735  \n",
       "..                ...              ...  \n",
       "216          11205451          8216355  \n",
       "217          24454720         17952832  \n",
       "218           5750625          3374505  \n",
       "219         155310605        337542264  \n",
       "220          42318383         32172523  \n",
       "\n",
       "[221 rows x 21 columns]"
      ]
     },
     "execution_count": 12,
     "metadata": {},
     "output_type": "execute_result"
    }
   ],
   "source": [
    "dataset_consolidado_provincia"
   ]
  },
  {
   "cell_type": "code",
   "execution_count": 13,
   "id": "cd8f0b79",
   "metadata": {
    "executionInfo": {
     "elapsed": 230,
     "status": "ok",
     "timestamp": 1652280399488,
     "user": {
      "displayName": "Byron Delpino",
      "userId": "17870731271085314975"
     },
     "user_tz": 300
    },
    "id": "cd8f0b79"
   },
   "outputs": [],
   "source": [
    "# Obtención de dataset únicamente con datos numéricos para aplicar procesos de normalización, PCA y clusterización\n",
    "dataset_consolidado_provincia_Num=dataset_consolidado_provincia.loc[:,campos_numericos_100K ]\n"
   ]
  },
  {
   "cell_type": "code",
   "execution_count": 14,
   "id": "b2aff400",
   "metadata": {
    "executionInfo": {
     "elapsed": 2,
     "status": "ok",
     "timestamp": 1652280401772,
     "user": {
      "displayName": "Byron Delpino",
      "userId": "17870731271085314975"
     },
     "user_tz": 300
    },
    "id": "b2aff400"
   },
   "outputs": [],
   "source": [
    "#Normalización de datos\n",
    "scaler=StandardScaler()\n",
    "dataset_normalizado=scaler.fit_transform(dataset_consolidado_provincia_Num)\n"
   ]
  },
  {
   "cell_type": "code",
   "execution_count": 15,
   "id": "yPooQQeUlRNf",
   "metadata": {
    "colab": {
     "base_uri": "https://localhost:8080/",
     "height": 312
    },
    "executionInfo": {
     "elapsed": 679,
     "status": "ok",
     "timestamp": 1652290835183,
     "user": {
      "displayName": "Byron Delpino",
      "userId": "17870731271085314975"
     },
     "user_tz": 300
    },
    "id": "yPooQQeUlRNf",
    "outputId": "9eac300e-d4d8-49b3-8089-55b81dd4d134"
   },
   "outputs": [
    {
     "data": {
      "text/plain": [
       "Text(0, 0.5, 'Acumulaciòn de varianza explicada')"
      ]
     },
     "execution_count": 15,
     "metadata": {},
     "output_type": "execute_result"
    },
    {
     "data": {
      "image/png": "[encoded data removed]",
      "text/plain": [
       "<Figure size 360x288 with 1 Axes>"
      ]
     },
     "metadata": {
      "needs_background": "light"
     },
     "output_type": "display_data"
    }
   ],
   "source": [
    "#PCA\n",
    "# Obtención de  varianza a fin de de determinar qué número de componentees \n",
    "#tienen una alta representación de la data \n",
    "pca=PCA()\n",
    "pca.fit(dataset_normalizado)\n",
    "pca.explained_variance_ratio_\n",
    "plt.figure(figsize=(5,4))\n",
    "plt.plot(range(1,10), pca.explained_variance_ratio_.cumsum(), marker='o', linestyle='--')\n",
    "plt.title('Varianza explicadapor  componentes')\n",
    "plt.xlabel('Numero de componentes')\n",
    "plt.ylabel('Acumulaciòn de varianza explicada')"
   ]
  },
  {
   "cell_type": "code",
   "execution_count": 16,
   "id": "0dc78a58",
   "metadata": {
    "executionInfo": {
     "elapsed": 242,
     "status": "ok",
     "timestamp": 1652280418976,
     "user": {
      "displayName": "Byron Delpino",
      "userId": "17870731271085314975"
     },
     "user_tz": 300
    },
    "id": "0dc78a58"
   },
   "outputs": [],
   "source": [
    "# Cálculo de PCA utilizado 2 componentes \n",
    "pca=PCA(n_components=2)\n",
    "pca.fit(dataset_normalizado)\n",
    "pca.transform(dataset_normalizado)\n",
    "scores_pca=pca.transform(dataset_normalizado)\n"
   ]
  },
  {
   "cell_type": "code",
   "execution_count": 17,
   "id": "89d7fd25",
   "metadata": {
    "executionInfo": {
     "elapsed": 2024,
     "status": "ok",
     "timestamp": 1652286764966,
     "user": {
      "displayName": "Byron Delpino",
      "userId": "17870731271085314975"
     },
     "user_tz": 300
    },
    "id": "89d7fd25"
   },
   "outputs": [],
   "source": [
    "# CLUSTERIZACION KMEANS\n",
    "metricas_evaluacion_kmeans=list()\n",
    "data_for_scatter=scores_pca\n",
    "componente1= pd.DataFrame(scores_pca)[0]\n",
    "componente2= pd.DataFrame(scores_pca)[1]\n",
    "numero_clusters= range(1,10)\n",
    "for nro_clusters in numero_clusters:\n",
    "  kmeans = KMeans(n_clusters = nro_clusters).fit(data_for_scatter)\n",
    "  if nro_clusters>=2: \n",
    "    silhouette_score_mean = silhouette_score(scores_pca,kmeans.labels_, metric='euclidean')\n",
    "  else :\n",
    "    silhouette_score_mean =0\n",
    "  metricas_evaluacion_kmeans.append({'Nro Clusters':nro_clusters, 'silueta':silhouette_score_mean,'inercia':kmeans.inertia_,  'cluster':  kmeans.labels_, 'x':componente1,  'y':componente2})\n",
    "\n",
    "\n"
   ]
  },
  {
   "cell_type": "code",
   "execution_count": 18,
   "id": "aQBBxzF30zsN",
   "metadata": {
    "colab": {
     "base_uri": "https://localhost:8080/",
     "height": 332
    },
    "executionInfo": {
     "elapsed": 1086,
     "status": "ok",
     "timestamp": 1652294160647,
     "user": {
      "displayName": "Byron Delpino",
      "userId": "17870731271085314975"
     },
     "user_tz": 300
    },
    "id": "aQBBxzF30zsN",
    "outputId": "dc4ad4a8-ad03-40da-df72-393cd7b2975b"
   },
   "outputs": [
    {
     "name": "stderr",
     "output_type": "stream",
     "text": [
      "No artists with labels found to put in legend.  Note that artists whose label start with an underscore are ignored when legend() is called with no argument.\n",
      "No artists with labels found to put in legend.  Note that artists whose label start with an underscore are ignored when legend() is called with no argument.\n"
     ]
    },
    {
     "data": {
      "image/png": "[encoded data removed]",
      "text/plain": [
       "<Figure size 720x288 with 2 Axes>"
      ]
     },
     "metadata": {
      "needs_background": "light"
     },
     "output_type": "display_data"
    }
   ],
   "source": [
    "\n",
    "## Creación de un gráfico de 2 subplots\n",
    "fig, axs = plt.subplots(1, 2, figsize=(10,4))\n",
    "plt.tight_layout()\n",
    "\n",
    "#Configuración de los subplots y gráfica de los resultados obtenidos\n",
    "## Obtención de los valores correspondientes a silueta e inercia (método del codo)\n",
    "inercia=pd.DataFrame(*[metricas_evaluacion_kmeans[0:9]])['inercia']\n",
    "silueta=pd.DataFrame(*[metricas_evaluacion_kmeans[1:9]])['silueta']\n",
    "\n",
    "axs[0].plot(range(1,10),inercia)\n",
    "axs[0].set_title(\"Método del Codo\",fontsize=15)\n",
    "axs[0].set_xlabel(\"Nro Clusters\",fontsize=10)\n",
    "axs[0].set_ylabel(\"Valor\",fontsize=10)\n",
    "axs[0].set_xticks(range(1,10, 1))\n",
    "axs[0].legend()\n",
    "#axs[0].grid()\n",
    "\n",
    "axs[1].plot(range(2,10),silueta)\n",
    "axs[1].set_title(\"Coeficiente de silueta\",fontsize=15)\n",
    "axs[1].set_xlabel(\"Nro Clusters\",fontsize=10)\n",
    "axs[1].set_ylabel(\"Valor\",fontsize=10)\n",
    "axs[1].set_xticks(range(2,10, 1))\n",
    "axs[1].legend()\n",
    "#axs[1].grid()\n",
    "\n",
    "fig.tight_layout()\n",
    "plt.show()"
   ]
  },
  {
   "cell_type": "code",
   "execution_count": 19,
   "id": "Bt2SSTDL9osK",
   "metadata": {
    "colab": {
     "base_uri": "https://localhost:8080/",
     "height": 342
    },
    "executionInfo": {
     "elapsed": 1228,
     "status": "ok",
     "timestamp": 1652294108811,
     "user": {
      "displayName": "Byron Delpino",
      "userId": "17870731271085314975"
     },
     "user_tz": 300
    },
    "id": "Bt2SSTDL9osK",
    "outputId": "bff773ff-d287-43ad-e9a4-114632520bef",
    "scrolled": true
   },
   "outputs": [
    {
     "data": {
      "text/plain": [
       "Text(0.5, 1.0, '3 Clústers')"
      ]
     },
     "execution_count": 19,
     "metadata": {},
     "output_type": "execute_result"
    },
    {
     "data": {
      "image/png": "[encoded data removed]",
      "text/plain": [
       "<Figure size 720x288 with 2 Axes>"
      ]
     },
     "metadata": {
      "needs_background": "light"
     },
     "output_type": "display_data"
    }
   ],
   "source": [
    "#Grafica de los clústeres\n",
    "fig, axs = plt.subplots(1, 2, figsize=(10,4))\n",
    "plt.tight_layout()\n",
    "eje_x=pd.DataFrame(*[metricas_evaluacion_kmeans[1:3]])['x']\n",
    "eje_y=pd.DataFrame(*[metricas_evaluacion_kmeans[1:3]])['y']\n",
    "cluster=pd.DataFrame(*[metricas_evaluacion_kmeans[1:3]])['cluster']\n",
    "sns.scatterplot(ax=axs[0], x=eje_x[0], y=eje_y[0], hue=cluster[0], palette=['b','brown'])\n",
    "sns.scatterplot(ax=axs[1], x=eje_x[1], y=eje_y[1], hue=cluster[1], palette={0:\"brown\",  1:\"blue\", 2:\"turquoise\"})\n",
    "axs[0].set_title(\"2 Clústers\",fontsize=15)\n",
    "axs[1].set_title(\"3 Clústers\",fontsize=15)\n",
    "\n",
    "\n"
   ]
  },
  {
   "cell_type": "code",
   "execution_count": 20,
   "id": "A9O58_XwGfop",
   "metadata": {
    "colab": {
     "base_uri": "https://localhost:8080/",
     "height": 144
    },
    "executionInfo": {
     "elapsed": 223,
     "status": "ok",
     "timestamp": 1652293808367,
     "user": {
      "displayName": "Byron Delpino",
      "userId": "17870731271085314975"
     },
     "user_tz": 300
    },
    "id": "A9O58_XwGfop",
    "outputId": "7818496c-8f58-4222-f3d3-5f8b8d7215d1"
   },
   "outputs": [
    {
     "name": "stdout",
     "output_type": "stream",
     "text": [
      "cluster\n",
      "0     14\n",
      "1      1\n",
      "2    206\n",
      "Name: CANTON, dtype: int64\n"
     ]
    },
    {
     "data": {
      "text/html": [
       "<div>\n",
       "<style scoped>\n",
       "    .dataframe tbody tr th:only-of-type {\n",
       "        vertical-align: middle;\n",
       "    }\n",
       "\n",
       "    .dataframe tbody tr th {\n",
       "        vertical-align: top;\n",
       "    }\n",
       "\n",
       "    .dataframe thead th {\n",
       "        text-align: right;\n",
       "    }\n",
       "</style>\n",
       "<table border=\"1\" class=\"dataframe\">\n",
       "  <thead>\n",
       "    <tr style=\"text-align: right;\">\n",
       "      <th></th>\n",
       "      <th>cluster</th>\n",
       "      <th>Ventas netas tarifa 12_CM%</th>\n",
       "      <th>Ventas netas tarifa 0%_CM</th>\n",
       "      <th>EXPORTACIONES_CM</th>\n",
       "      <th>Compras netas tarifa 12%_CM</th>\n",
       "      <th>Compras netas tarifa 0%_CM</th>\n",
       "      <th>IMPORTACIONES_CM</th>\n",
       "      <th>COMPRAS_RISE_CM</th>\n",
       "      <th>TOTAL_COMPRAS_CM</th>\n",
       "      <th>TOTAL_VENTAS_CM</th>\n",
       "    </tr>\n",
       "  </thead>\n",
       "  <tbody>\n",
       "    <tr>\n",
       "      <th>0</th>\n",
       "      <td>0</td>\n",
       "      <td>66760624</td>\n",
       "      <td>86356993</td>\n",
       "      <td>53025986</td>\n",
       "      <td>75082655</td>\n",
       "      <td>65693288</td>\n",
       "      <td>27434641</td>\n",
       "      <td>833479</td>\n",
       "      <td>170112899</td>\n",
       "      <td>206143360</td>\n",
       "    </tr>\n",
       "    <tr>\n",
       "      <th>1</th>\n",
       "      <td>1</td>\n",
       "      <td>150964317</td>\n",
       "      <td>78247165</td>\n",
       "      <td>712915159</td>\n",
       "      <td>312494001</td>\n",
       "      <td>77606259</td>\n",
       "      <td>80997438</td>\n",
       "      <td>58540</td>\n",
       "      <td>471409249</td>\n",
       "      <td>942126641</td>\n",
       "    </tr>\n",
       "    <tr>\n",
       "      <th>2</th>\n",
       "      <td>2</td>\n",
       "      <td>9650251</td>\n",
       "      <td>14379511</td>\n",
       "      <td>2267889</td>\n",
       "      <td>12828928</td>\n",
       "      <td>10056886</td>\n",
       "      <td>915355</td>\n",
       "      <td>437976</td>\n",
       "      <td>24248996</td>\n",
       "      <td>26297504</td>\n",
       "    </tr>\n",
       "  </tbody>\n",
       "</table>\n",
       "</div>"
      ],
      "text/plain": [
       "   cluster  Ventas netas tarifa 12_CM%  Ventas netas tarifa 0%_CM  \\\n",
       "0        0                    66760624                   86356993   \n",
       "1        1                   150964317                   78247165   \n",
       "2        2                     9650251                   14379511   \n",
       "\n",
       "   EXPORTACIONES_CM  Compras netas tarifa 12%_CM  Compras netas tarifa 0%_CM  \\\n",
       "0          53025986                     75082655                    65693288   \n",
       "1         712915159                    312494001                    77606259   \n",
       "2           2267889                     12828928                    10056886   \n",
       "\n",
       "   IMPORTACIONES_CM  COMPRAS_RISE_CM  TOTAL_COMPRAS_CM  TOTAL_VENTAS_CM  \n",
       "0          27434641           833479         170112899        206143360  \n",
       "1          80997438            58540         471409249        942126641  \n",
       "2            915355           437976          24248996         26297504  "
      ]
     },
     "execution_count": 20,
     "metadata": {},
     "output_type": "execute_result"
    }
   ],
   "source": [
    "# Asignación de los cálculos para dos clústeres a la data consolidada\n",
    "dataset_consolidado_provincia['cluster']=cluster[1]\n",
    "# Obtención de datos resumen \n",
    "print(dataset_consolidado_provincia.groupby('cluster').count()['CANTON'])\n",
    "# Obtención de datos resumen por la media\n",
    "Centers_mean= dataset_consolidado_provincia.groupby('cluster')[campos_numericos_100K].mean().reset_index()\n",
    "Centers_mean"
   ]
  },
  {
   "cell_type": "code",
   "execution_count": 21,
   "id": "9mxP9lk1MIhB",
   "metadata": {
    "colab": {
     "base_uri": "https://localhost:8080/",
     "height": 784
    },
    "executionInfo": {
     "elapsed": 737,
     "status": "ok",
     "timestamp": 1652294120164,
     "user": {
      "displayName": "Byron Delpino",
      "userId": "17870731271085314975"
     },
     "user_tz": 300
    },
    "id": "9mxP9lk1MIhB",
    "outputId": "79c25406-abac-4b53-a9e5-ced2c708e3f2"
   },
   "outputs": [
    {
     "data": {
      "text/plain": [
       "([<matplotlib.axis.XTick at 0x249016ecfd0>,\n",
       "  <matplotlib.axis.XTick at 0x249016ecfa0>,\n",
       "  <matplotlib.axis.XTick at 0x249016ee080>,\n",
       "  <matplotlib.axis.XTick at 0x2490171a230>,\n",
       "  <matplotlib.axis.XTick at 0x249017d50f0>,\n",
       "  <matplotlib.axis.XTick at 0x249017d5120>,\n",
       "  <matplotlib.axis.XTick at 0x249017d5030>,\n",
       "  <matplotlib.axis.XTick at 0x2490171ae90>,\n",
       "  <matplotlib.axis.XTick at 0x249017d4fd0>],\n",
       " [Text(0, 0, 'Ventas netas tarifa 12_CM%'),\n",
       "  Text(1, 0, 'Ventas netas tarifa 0%_CM'),\n",
       "  Text(2, 0, 'EXPORTACIONES_CM'),\n",
       "  Text(3, 0, 'Compras netas tarifa 12%_CM'),\n",
       "  Text(4, 0, 'Compras netas tarifa 0%_CM'),\n",
       "  Text(5, 0, 'IMPORTACIONES_CM'),\n",
       "  Text(6, 0, 'COMPRAS_RISE_CM'),\n",
       "  Text(7, 0, 'TOTAL_COMPRAS_CM'),\n",
       "  Text(8, 0, 'TOTAL_VENTAS_CM')])"
      ]
     },
     "execution_count": 21,
     "metadata": {},
     "output_type": "execute_result"
    },
    {
     "data": {
      "image/png": "[encoded data removed]",
      "text/plain": [
       "<Figure size 720x360 with 1 Axes>"
      ]
     },
     "metadata": {
      "needs_background": "light"
     },
     "output_type": "display_data"
    }
   ],
   "source": [
    "##Impresión de un gráfico de barras con los totales por cada valor que toma el atributo 'class'\n",
    "plt.figure(figsize=(10,5))\n",
    "x= np.arange(len(campos_numericos_100K))\n",
    "ejex=0.1\n",
    "plt.bar(x-0.2,Centers_mean.iloc[0][campos_numericos_100K],0.2,color='brown')\n",
    "plt.bar(x,Centers_mean.iloc[1][campos_numericos_100K],0.2,  color='blue')\n",
    "plt.bar(x+0.2,Centers_mean.iloc[2][campos_numericos_100K],0.2,color='turquoise')\n",
    "plt.legend([\"Cluster 0\", \"Cluster 1\", \"Cluster 2\"])\n",
    "plt.xticks(x,campos_numericos_100K,rotation = 90)"
   ]
  },
  {
   "cell_type": "code",
   "execution_count": 22,
   "id": "EE7FLzt5l_Va",
   "metadata": {
    "colab": {
     "base_uri": "https://localhost:8080/",
     "height": 295
    },
    "executionInfo": {
     "elapsed": 7179,
     "status": "ok",
     "timestamp": 1652294186791,
     "user": {
      "displayName": "Byron Delpino",
      "userId": "17870731271085314975"
     },
     "user_tz": 300
    },
    "id": "EE7FLzt5l_Va",
    "outputId": "73ae3316-a06b-4b81-b02a-6e0f6ec28a3b"
   },
   "outputs": [
    {
     "data": {
      "image/png": "[encoded data removed]",
      "text/plain": [
       "<Figure size 432x288 with 1 Axes>"
      ]
     },
     "metadata": {
      "needs_background": "light"
     },
     "output_type": "display_data"
    }
   ],
   "source": [
    "#CLUSTERIZACION JERARQUICA\n",
    "#DENDOGRAMA\n",
    "\n",
    "dendrogram = sch.dendrogram(sch.linkage(data_for_scatter, method  = \"ward\"))\n",
    "plt.title('Dendrogram')\n",
    "plt.xlabel('Customers')\n",
    "plt.ylabel('distances')\n",
    "plt.show()"
   ]
  },
  {
   "cell_type": "code",
   "execution_count": 23,
   "id": "w61BkaXEmS05",
   "metadata": {
    "executionInfo": {
     "elapsed": 206,
     "status": "ok",
     "timestamp": 1652294840981,
     "user": {
      "displayName": "Byron Delpino",
      "userId": "17870731271085314975"
     },
     "user_tz": 300
    },
    "id": "w61BkaXEmS05"
   },
   "outputs": [],
   "source": [
    "metricas_evaluacion_aglomerativo=list()\n",
    "numero_clusters= range(1,10)\n",
    "for nro_clusters in numero_clusters:\n",
    "  yhc = AgglomerativeClustering(n_clusters = nro_clusters).fit(data_for_scatter)\n",
    "  if nro_clusters>=2: \n",
    "    silhouette_score_mean = silhouette_score(scores_pca,yhc.labels_, metric='euclidean')\n",
    "  else :\n",
    "    silhouette_score_mean =0\n",
    "  metricas_evaluacion_aglomerativo.append({'Nro Clusters':nro_clusters, 'silueta':silhouette_score_mean,  'cluster':  yhc.labels_, 'x':componente1,  'y':componente2})\n",
    "\n"
   ]
  },
  {
   "cell_type": "code",
   "execution_count": 24,
   "id": "s1pzMIDcayVJ",
   "metadata": {
    "colab": {
     "base_uri": "https://localhost:8080/",
     "height": 314
    },
    "executionInfo": {
     "elapsed": 572,
     "status": "ok",
     "timestamp": 1652294849277,
     "user": {
      "displayName": "Byron Delpino",
      "userId": "17870731271085314975"
     },
     "user_tz": 300
    },
    "id": "s1pzMIDcayVJ",
    "outputId": "8ca6001e-1303-47bf-99c2-c78fe68a7a18",
    "scrolled": true
   },
   "outputs": [
    {
     "name": "stderr",
     "output_type": "stream",
     "text": [
      "No artists with labels found to put in legend.  Note that artists whose label start with an underscore are ignored when legend() is called with no argument.\n"
     ]
    },
    {
     "data": {
      "image/png": "[encoded data removed]",
      "text/plain": [
       "<Figure size 432x288 with 1 Axes>"
      ]
     },
     "metadata": {
      "needs_background": "light"
     },
     "output_type": "display_data"
    }
   ],
   "source": [
    "## Creación de un gráfico de 2 subplots\n",
    "\n",
    "plt.tight_layout()\n",
    "\n",
    "#Configuración de los subplots y gráfica de los resultados obtenidos\n",
    "## Obtención de los valores correspondientes a silueta e inercia (método del codo)\n",
    "\n",
    "silueta=pd.DataFrame(*[metricas_evaluacion_aglomerativo[1:9]])['silueta']\n",
    "\n",
    "plt.plot(range(2,10),silueta)\n",
    "plt.title(\"Coeficiente de silueta\",fontsize=15)\n",
    "plt.xlabel(\"Nro Clusters\",fontsize=10)\n",
    "plt.ylabel(\"Valor\",fontsize=10)\n",
    "plt.xticks(range(2,10, 1))\n",
    "plt.legend()\n",
    "#axs[0].grid()\n",
    "\n",
    "fig.tight_layout()\n",
    "plt.show()"
   ]
  },
  {
   "cell_type": "code",
   "execution_count": 25,
   "id": "lPSb3ByNbx14",
   "metadata": {
    "colab": {
     "base_uri": "https://localhost:8080/",
     "height": 342
    },
    "executionInfo": {
     "elapsed": 1425,
     "status": "ok",
     "timestamp": 1652294897503,
     "user": {
      "displayName": "Byron Delpino",
      "userId": "17870731271085314975"
     },
     "user_tz": 300
    },
    "id": "lPSb3ByNbx14",
    "outputId": "a7934203-3b36-401f-f244-670cbeb218b0"
   },
   "outputs": [
    {
     "data": {
      "text/plain": [
       "Text(0.5, 1.0, '3 Clústers')"
      ]
     },
     "execution_count": 25,
     "metadata": {},
     "output_type": "execute_result"
    },
    {
     "data": {
      "image/png": "[encoded data removed]",
      "text/plain": [
       "<Figure size 720x288 with 2 Axes>"
      ]
     },
     "metadata": {
      "needs_background": "light"
     },
     "output_type": "display_data"
    }
   ],
   "source": [
    "#Grafica de los clústeres\n",
    "fig, axs = plt.subplots(1, 2, figsize=(10,4))\n",
    "plt.tight_layout()\n",
    "eje_x=pd.DataFrame(*[metricas_evaluacion_aglomerativo[1:3]])['x']\n",
    "eje_y=pd.DataFrame(*[metricas_evaluacion_aglomerativo[1:3]])['y']\n",
    "cluster=pd.DataFrame(*[metricas_evaluacion_aglomerativo[1:3]])['cluster']\n",
    "sns.scatterplot(ax=axs[0], x=eje_x[0], y=eje_y[0], hue=cluster[0], palette={1:\"blue\",  0:\"brown\"})\n",
    "sns.scatterplot(ax=axs[1], x=eje_x[1], y=eje_y[1], hue=cluster[1], palette={0:\"blue\",  1:\"brown\", 2:\"turquoise\"})\n",
    "axs[0].set_title(\"2 Clústers\",fontsize=15)\n",
    "axs[1].set_title(\"3 Clústers\",fontsize=15)\n"
   ]
  },
  {
   "cell_type": "code",
   "execution_count": 26,
   "id": "e0b96964",
   "metadata": {
    "colab": {
     "base_uri": "https://localhost:8080/",
     "height": 144
    },
    "executionInfo": {
     "elapsed": 281,
     "status": "ok",
     "timestamp": 1652295003862,
     "user": {
      "displayName": "Byron Delpino",
      "userId": "17870731271085314975"
     },
     "user_tz": 300
    },
    "id": "e0b96964",
    "outputId": "be84efb8-c417-4990-c1f5-aa6dbfed8fd6",
    "scrolled": true
   },
   "outputs": [
    {
     "name": "stdout",
     "output_type": "stream",
     "text": [
      "cluster1\n",
      "0    206\n",
      "1     14\n",
      "2      1\n",
      "Name: CANTON, dtype: int64\n"
     ]
    },
    {
     "data": {
      "text/html": [
       "<div>\n",
       "<style scoped>\n",
       "    .dataframe tbody tr th:only-of-type {\n",
       "        vertical-align: middle;\n",
       "    }\n",
       "\n",
       "    .dataframe tbody tr th {\n",
       "        vertical-align: top;\n",
       "    }\n",
       "\n",
       "    .dataframe thead th {\n",
       "        text-align: right;\n",
       "    }\n",
       "</style>\n",
       "<table border=\"1\" class=\"dataframe\">\n",
       "  <thead>\n",
       "    <tr style=\"text-align: right;\">\n",
       "      <th></th>\n",
       "      <th>Ventas netas tarifa 12_CM%</th>\n",
       "      <th>Ventas netas tarifa 0%_CM</th>\n",
       "      <th>EXPORTACIONES_CM</th>\n",
       "      <th>Compras netas tarifa 12%_CM</th>\n",
       "      <th>Compras netas tarifa 0%_CM</th>\n",
       "      <th>IMPORTACIONES_CM</th>\n",
       "      <th>COMPRAS_RISE_CM</th>\n",
       "      <th>TOTAL_COMPRAS_CM</th>\n",
       "      <th>TOTAL_VENTAS_CM</th>\n",
       "    </tr>\n",
       "  </thead>\n",
       "  <tbody>\n",
       "    <tr>\n",
       "      <th>0</th>\n",
       "      <td>9650251</td>\n",
       "      <td>14379511</td>\n",
       "      <td>2267889</td>\n",
       "      <td>12828928</td>\n",
       "      <td>10056886</td>\n",
       "      <td>915355</td>\n",
       "      <td>437976</td>\n",
       "      <td>24248996</td>\n",
       "      <td>26297504</td>\n",
       "    </tr>\n",
       "    <tr>\n",
       "      <th>1</th>\n",
       "      <td>66760624</td>\n",
       "      <td>86356993</td>\n",
       "      <td>53025986</td>\n",
       "      <td>75082655</td>\n",
       "      <td>65693288</td>\n",
       "      <td>27434641</td>\n",
       "      <td>833479</td>\n",
       "      <td>170112899</td>\n",
       "      <td>206143360</td>\n",
       "    </tr>\n",
       "    <tr>\n",
       "      <th>2</th>\n",
       "      <td>150964317</td>\n",
       "      <td>78247165</td>\n",
       "      <td>712915159</td>\n",
       "      <td>312494001</td>\n",
       "      <td>77606259</td>\n",
       "      <td>80997438</td>\n",
       "      <td>58540</td>\n",
       "      <td>471409249</td>\n",
       "      <td>942126641</td>\n",
       "    </tr>\n",
       "  </tbody>\n",
       "</table>\n",
       "</div>"
      ],
      "text/plain": [
       "   Ventas netas tarifa 12_CM%  Ventas netas tarifa 0%_CM  EXPORTACIONES_CM  \\\n",
       "0                     9650251                   14379511           2267889   \n",
       "1                    66760624                   86356993          53025986   \n",
       "2                   150964317                   78247165         712915159   \n",
       "\n",
       "   Compras netas tarifa 12%_CM  Compras netas tarifa 0%_CM  IMPORTACIONES_CM  \\\n",
       "0                     12828928                    10056886            915355   \n",
       "1                     75082655                    65693288          27434641   \n",
       "2                    312494001                    77606259          80997438   \n",
       "\n",
       "   COMPRAS_RISE_CM  TOTAL_COMPRAS_CM  TOTAL_VENTAS_CM  \n",
       "0           437976          24248996         26297504  \n",
       "1           833479         170112899        206143360  \n",
       "2            58540         471409249        942126641  "
      ]
     },
     "execution_count": 26,
     "metadata": {},
     "output_type": "execute_result"
    }
   ],
   "source": [
    "# Asignación de los cálculos para dos clústeres a la data consolidada\n",
    "dataset_consolidado_provincia['cluster1']=cluster[1]\n",
    "# Obtención de datos resumen \n",
    "print(dataset_consolidado_provincia.groupby('cluster1').count()['CANTON'])\n",
    "\n",
    "Centers_mean_hc= dataset_consolidado_provincia.groupby('cluster1')[campos_numericos_100K].mean().reset_index()\n",
    "Centers_mean_hc.iloc[0:3][campos_numericos_100K]"
   ]
  },
  {
   "cell_type": "code",
   "execution_count": 27,
   "id": "NYX0Qp9adUle",
   "metadata": {
    "colab": {
     "base_uri": "https://localhost:8080/",
     "height": 784
    },
    "executionInfo": {
     "elapsed": 659,
     "status": "ok",
     "timestamp": 1652295048945,
     "user": {
      "displayName": "Byron Delpino",
      "userId": "17870731271085314975"
     },
     "user_tz": 300
    },
    "id": "NYX0Qp9adUle",
    "outputId": "02cc189c-c56e-4b31-d60e-8993545daa38"
   },
   "outputs": [
    {
     "data": {
      "text/plain": [
       "([<matplotlib.axis.XTick at 0x2490393c640>,\n",
       "  <matplotlib.axis.XTick at 0x2490393c7f0>,\n",
       "  <matplotlib.axis.XTick at 0x2490393cee0>,\n",
       "  <matplotlib.axis.XTick at 0x2490699df60>,\n",
       "  <matplotlib.axis.XTick at 0x2490699e6b0>,\n",
       "  <matplotlib.axis.XTick at 0x2490699ee00>,\n",
       "  <matplotlib.axis.XTick at 0x2490699f550>,\n",
       "  <matplotlib.axis.XTick at 0x2490699fca0>,\n",
       "  <matplotlib.axis.XTick at 0x2490699f820>],\n",
       " [Text(0, 0, 'Ventas netas tarifa 12_CM%'),\n",
       "  Text(1, 0, 'Ventas netas tarifa 0%_CM'),\n",
       "  Text(2, 0, 'EXPORTACIONES_CM'),\n",
       "  Text(3, 0, 'Compras netas tarifa 12%_CM'),\n",
       "  Text(4, 0, 'Compras netas tarifa 0%_CM'),\n",
       "  Text(5, 0, 'IMPORTACIONES_CM'),\n",
       "  Text(6, 0, 'COMPRAS_RISE_CM'),\n",
       "  Text(7, 0, 'TOTAL_COMPRAS_CM'),\n",
       "  Text(8, 0, 'TOTAL_VENTAS_CM')])"
      ]
     },
     "execution_count": 27,
     "metadata": {},
     "output_type": "execute_result"
    },
    {
     "data": {
      "image/png": "[encoded data removed]",
      "text/plain": [
       "<Figure size 720x360 with 1 Axes>"
      ]
     },
     "metadata": {
      "needs_background": "light"
     },
     "output_type": "display_data"
    }
   ],
   "source": [
    "##Impresión de un gráfico de barras con los totales por cada valor que toma el atributo 'class'\n",
    "plt.figure(figsize=(10,5))\n",
    "x= np.arange(len(campos_numericos_100K))\n",
    "ejex=0.1\n",
    "plt.bar(x-0.2,Centers_mean_hc.iloc[0][campos_numericos_100K],0.2,color='blue')\n",
    "plt.bar(x,Centers_mean_hc.iloc[1][campos_numericos_100K],0.2,color='brown')\n",
    "plt.bar(x+0.2,Centers_mean_hc.iloc[2][campos_numericos_100K],0.2,color='turquoise')\n",
    "plt.legend([\"Cluster 0\", \"Cluster 1\", \"Cluster 2\"])\n",
    "plt.xticks(x,campos_numericos_100K,rotation = 90)"
   ]
  },
  {
   "cell_type": "code",
   "execution_count": 28,
   "id": "MuqpUvqXdysN",
   "metadata": {
    "id": "MuqpUvqXdysN"
   },
   "outputs": [
    {
     "data": {
      "text/plain": [
       "<BarContainer object of 2 artists>"
      ]
     },
     "execution_count": 28,
     "metadata": {},
     "output_type": "execute_result"
    },
    {
     "data": {
      "image/png": "[encoded data removed]",
      "text/plain": [
       "<Figure size 360x288 with 1 Axes>"
      ]
     },
     "metadata": {
      "needs_background": "light"
     },
     "output_type": "display_data"
    }
   ],
   "source": [
    "#Comparación de resultados.\n",
    "\n",
    "valores_siluetas=[metricas_evaluacion_kmeans[2]['silueta'] ,metricas_evaluacion_aglomerativo[2]['silueta']]\n",
    "\n",
    "plt.figure(figsize=(5,4))\n",
    "\n",
    "for i, valor in enumerate(valores_siluetas):\n",
    "    plt.text( i,valor+0.002,str(round(valor,2)))\n",
    "plt.bar(['AGLOMERATIVO','K-MEANS'],valores_siluetas, color=['brown','orange'],width=0.65)\n"
   ]
  },
  {
   "cell_type": "code",
   "execution_count": 29,
   "id": "835c90c8",
   "metadata": {
    "id": "835c90c8",
    "scrolled": true
   },
   "outputs": [
    {
     "data": {
      "text/plain": [
       "<AxesSubplot:>"
      ]
     },
     "execution_count": 29,
     "metadata": {},
     "output_type": "execute_result"
    },
    {
     "data": {
      "image/png": "[encoded data removed]",
      "text/plain": [
       "<Figure size 1080x720 with 1 Axes>"
      ]
     },
     "metadata": {
      "needs_background": "light"
     },
     "output_type": "display_data"
    }
   ],
   "source": [
    "#DESPLIEGUE DE MAPA PINTADO POR CLUSTERS\n",
    "\n",
    "cantones='https://raw.githubusercontent.com/byronodg/REPOSITORIO_TFM/main/CLUSTERIZACION/cantones.geojson'\n",
    "geo_cantones = gpd.read_file(cantones,encoding='utf-8')\n",
    "geo_cantones=geo_cantones.rename(columns ={'DPA_DESPRO': 'PROVINCIA'}, inplace = False)\n",
    "geo_cantones=geo_cantones.rename(columns ={'DPA_DESCAN': 'CANTON'}, inplace = False)\n",
    "datos_final=gpd.GeoDataFrame(pd.merge(dataset_consolidado_provincia, geo_cantones, on=['PROVINCIA','CANTON'], how='inner'))\n",
    "datos_final.plot(column = 'cluster1',figsize=(15, 10), categorical=True, legend=True)\n",
    "\n",
    "#EN CASO DE HACER EXPOSICION DEMOSTRATIVA\n",
    "#datos_final.explore(\n",
    " #    column=\"cluster\", # make choropleth based on \"BoroName\" column\n",
    "  #   tooltip=[\"PROVINCIA\",\"CANTON\"], # show \"BoroName\" value in tooltip (on hover)\n",
    "   #  popup=True, # show all values in popup (on click)\n",
    "    # tiles=\"CartoDB positron\", # use \"CartoDB positron\" tiles\n",
    "     #cmap=\"Set1\", # use \"Set1\" matplotlib colormap\n",
    "     #style_kwds=dict(color=\"black\") # use black outline\n",
    "    #)\n",
    "\n",
    "\n"
   ]
  },
  {
   "cell_type": "code",
   "execution_count": 30,
   "id": "3fbefb01",
   "metadata": {},
   "outputs": [
    {
     "data": {
      "text/html": [
       "<div>\n",
       "<style scoped>\n",
       "    .dataframe tbody tr th:only-of-type {\n",
       "        vertical-align: middle;\n",
       "    }\n",
       "\n",
       "    .dataframe tbody tr th {\n",
       "        vertical-align: top;\n",
       "    }\n",
       "\n",
       "    .dataframe thead th {\n",
       "        text-align: right;\n",
       "    }\n",
       "</style>\n",
       "<table border=\"1\" class=\"dataframe\">\n",
       "  <thead>\n",
       "    <tr style=\"text-align: right;\">\n",
       "      <th></th>\n",
       "      <th>CANTON</th>\n",
       "      <th>POBLACION</th>\n",
       "      <th>cluster</th>\n",
       "      <th>TOTAL_COMPRAS</th>\n",
       "      <th>TOTAL_COMPRAS_CM</th>\n",
       "      <th>TOTAL_VENTAS</th>\n",
       "      <th>TOTAL_VENTAS_CM</th>\n",
       "    </tr>\n",
       "  </thead>\n",
       "  <tbody>\n",
       "    <tr>\n",
       "      <th>188</th>\n",
       "      <td>QUITO</td>\n",
       "      <td>2781641</td>\n",
       "      <td>0</td>\n",
       "      <td>51445044999</td>\n",
       "      <td>184944948</td>\n",
       "      <td>71344754648</td>\n",
       "      <td>256484408</td>\n",
       "    </tr>\n",
       "    <tr>\n",
       "      <th>86</th>\n",
       "      <td>GUAYAQUIL</td>\n",
       "      <td>2723665</td>\n",
       "      <td>0</td>\n",
       "      <td>42929050171</td>\n",
       "      <td>157615016</td>\n",
       "      <td>53022909030</td>\n",
       "      <td>194674855</td>\n",
       "    </tr>\n",
       "    <tr>\n",
       "      <th>2</th>\n",
       "      <td>CUENCA</td>\n",
       "      <td>636996</td>\n",
       "      <td>0</td>\n",
       "      <td>6988825098</td>\n",
       "      <td>109715369</td>\n",
       "      <td>9131241251</td>\n",
       "      <td>143348487</td>\n",
       "    </tr>\n",
       "    <tr>\n",
       "      <th>195</th>\n",
       "      <td>SANTO DOMINGO</td>\n",
       "      <td>458580</td>\n",
       "      <td>2</td>\n",
       "      <td>2595890874</td>\n",
       "      <td>56607154</td>\n",
       "      <td>2828762299</td>\n",
       "      <td>61685252</td>\n",
       "    </tr>\n",
       "    <tr>\n",
       "      <th>203</th>\n",
       "      <td>AMBATO</td>\n",
       "      <td>387309</td>\n",
       "      <td>2</td>\n",
       "      <td>2990139274</td>\n",
       "      <td>77202938</td>\n",
       "      <td>3508146013</td>\n",
       "      <td>90577446</td>\n",
       "    </tr>\n",
       "    <tr>\n",
       "      <th>151</th>\n",
       "      <td>PORTOVIEJO</td>\n",
       "      <td>321800</td>\n",
       "      <td>2</td>\n",
       "      <td>1351029571</td>\n",
       "      <td>41983517</td>\n",
       "      <td>1314486709</td>\n",
       "      <td>40847940</td>\n",
       "    </tr>\n",
       "    <tr>\n",
       "      <th>82</th>\n",
       "      <td>DURAN</td>\n",
       "      <td>315724</td>\n",
       "      <td>0</td>\n",
       "      <td>5175543976</td>\n",
       "      <td>163926213</td>\n",
       "      <td>6181161443</td>\n",
       "      <td>195777370</td>\n",
       "    </tr>\n",
       "    <tr>\n",
       "      <th>59</th>\n",
       "      <td>MACHALA</td>\n",
       "      <td>289141</td>\n",
       "      <td>0</td>\n",
       "      <td>3410519194</td>\n",
       "      <td>117953497</td>\n",
       "      <td>4021671203</td>\n",
       "      <td>139090312</td>\n",
       "    </tr>\n",
       "    <tr>\n",
       "      <th>113</th>\n",
       "      <td>LOJA</td>\n",
       "      <td>274112</td>\n",
       "      <td>2</td>\n",
       "      <td>1189183724</td>\n",
       "      <td>43383133</td>\n",
       "      <td>1412637837</td>\n",
       "      <td>51535060</td>\n",
       "    </tr>\n",
       "    <tr>\n",
       "      <th>145</th>\n",
       "      <td>MANTA</td>\n",
       "      <td>264281</td>\n",
       "      <td>2</td>\n",
       "      <td>2191201496</td>\n",
       "      <td>82911806</td>\n",
       "      <td>2540880263</td>\n",
       "      <td>96143130</td>\n",
       "    </tr>\n",
       "  </tbody>\n",
       "</table>\n",
       "</div>"
      ],
      "text/plain": [
       "            CANTON  POBLACION  cluster  TOTAL_COMPRAS  TOTAL_COMPRAS_CM  \\\n",
       "188          QUITO    2781641        0    51445044999         184944948   \n",
       "86       GUAYAQUIL    2723665        0    42929050171         157615016   \n",
       "2           CUENCA     636996        0     6988825098         109715369   \n",
       "195  SANTO DOMINGO     458580        2     2595890874          56607154   \n",
       "203         AMBATO     387309        2     2990139274          77202938   \n",
       "151     PORTOVIEJO     321800        2     1351029571          41983517   \n",
       "82           DURAN     315724        0     5175543976         163926213   \n",
       "59         MACHALA     289141        0     3410519194         117953497   \n",
       "113           LOJA     274112        2     1189183724          43383133   \n",
       "145          MANTA     264281        2     2191201496          82911806   \n",
       "\n",
       "     TOTAL_VENTAS  TOTAL_VENTAS_CM  \n",
       "188   71344754648        256484408  \n",
       "86    53022909030        194674855  \n",
       "2      9131241251        143348487  \n",
       "195    2828762299         61685252  \n",
       "203    3508146013         90577446  \n",
       "151    1314486709         40847940  \n",
       "82     6181161443        195777370  \n",
       "59     4021671203        139090312  \n",
       "113    1412637837         51535060  \n",
       "145    2540880263         96143130  "
      ]
     },
     "execution_count": 30,
     "metadata": {},
     "output_type": "execute_result"
    }
   ],
   "source": [
    "#TOP CANTONES POR POBLACION\n",
    "datos_final.sort_values(by=['POBLACION'], inplace=True, ascending=False)\n",
    "datos_final[['CANTON','POBLACION','cluster','TOTAL_COMPRAS','TOTAL_COMPRAS_CM','TOTAL_VENTAS','TOTAL_VENTAS_CM']].head(10)\n",
    "\n"
   ]
  }
 ],
 "metadata": {
  "colab": {
   "collapsed_sections": [],
   "name": " TFM_CLUSTERIZACION.ipynb",
   "provenance": [
    {
     "file_id": "1Qj7cFYvH-1fCnYYnlpaMgn7xqtMhtOz1",
     "timestamp": 1652278578485
    },
    {
     "file_id": "1BTRmICyAglAuTn2zHOa7tAkapj9nSCmf",
     "timestamp": 1651859407404
    }
   ]
  },
  "kernelspec": {
   "display_name": "geo_env",
   "language": "python",
   "name": "geo_env"
  },
  "language_info": {
   "codemirror_mode": {
    "name": "ipython",
    "version": 3
   },
   "file_extension": ".py",
   "mimetype": "text/x-python",
   "name": "python",
   "nbconvert_exporter": "python",
   "pygments_lexer": "ipython3",
   "version": "3.10.4"
  }
 },
 "nbformat": 4,
 "nbformat_minor": 5
}
